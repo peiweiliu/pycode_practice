{
 "cells": [
  {
   "cell_type": "markdown",
   "metadata": {},
   "source": [
    "# Pre-game settings\n",
    "- user name"
   ]
  },
  {
   "cell_type": "code",
   "execution_count": 223,
   "metadata": {},
   "outputs": [
    {
     "name": "stdin",
     "output_type": "stream",
     "text": [
      "Please input your name here (Any number is PROHIBITED):  fdsg\n"
     ]
    }
   ],
   "source": [
    "# user name\n",
    "while True:\n",
    "    user_name = input('Please input your name here (Any number is PROHIBITED): ')\n",
    "    try:\n",
    "        float(user_name)\n",
    "        continue\n",
    "    except:\n",
    "        break"
   ]
  },
  {
   "cell_type": "markdown",
   "metadata": {},
   "source": [
    "# Guess the bomb number"
   ]
  },
  {
   "cell_type": "code",
   "execution_count": 222,
   "metadata": {},
   "outputs": [
    {
     "name": "stdin",
     "output_type": "stream",
     "text": [
      "type number '1' for continue the game. Otherwise, type number '0'  0\n"
     ]
    },
    {
     "name": "stdout",
     "output_type": "stream",
     "text": [
      "Game over!\n"
     ]
    }
   ],
   "source": [
    "import random\n",
    "import requests\n",
    "tol = 0\n",
    "tims = 0\n",
    "tims_each_round = []\n",
    "while True:\n",
    "    custhoughts = int(input(\"type number '1' for continue the game. Otherwise, type number '0' \"))\n",
    "    if custhoughts == 1:\n",
    "        tol += 1\n",
    "        tar_web = requests.get('https://python666.cn/cls/number/guess/')\n",
    "        tar_num = int(tar_web.text)\n",
    "        while True:\n",
    "            tims += 1\n",
    "            answer = int(input(\"Just guess the bomb number from 1 to 100:\"))\n",
    "            if 0 < answer < tar_num:\n",
    "                print(\"too small\")\n",
    "            elif answer > tar_num:\n",
    "                print(\"too big!\")\n",
    "            elif answer == tar_num:\n",
    "                print(\"Bingo!\")\n",
    "                break\n",
    "        tims_each_round.append(tims)\n",
    "    elif custhoughts == 0:\n",
    "        break\n",
    "    if tol > 0:\n",
    "        print (\"%s, the total round of game: %d\\nThe minimum of times across round is %d\\nThe average times in each round that you hit the boom: %.2f\" % (user_name,tol,min(tims_each_round),tims/tol))\n",
    "print(\"Game over!\")"
   ]
  },
  {
   "cell_type": "markdown",
   "metadata": {},
   "source": [
    "# Export the result to file\n",
    "## Test whether the final file has already been created.\n",
    "- try: if there is a file, read the content.\n",
    " - we assume that \n",
    " 1. the data is formated as [name, times, round_min, tims_avg].\n",
    " 2. there will be records if there is a file.\n",
    "- except: if no final file here, create a new file and input the infos.\n",
    "\n",
    "## Test whether there was a record for this user.\n",
    "- finally:\n",
    " - if there is a record for this user: update by overwritten\n",
    " - if there is no record fot this user: create a record for this user\n",
    " "
   ]
  },
  {
   "cell_type": "code",
   "execution_count": 221,
   "metadata": {},
   "outputs": [],
   "source": [
    "import re\n",
    "try:#if success: get the info\n",
    "    with open('game_many_users.txt') as f:\n",
    "        users_info = f.readlines()  \n",
    "except:#if error: create this kind of file\n",
    "    with open('game_many_users.txt','w') as f:\n",
    "        f.write('%s %d %d %d\\n' % (user_name,tol,min(tims_each_round),tims/tol))\n",
    "    with open('game_many_users.txt') as f:\n",
    "        users_info = f.readlines()\n",
    "finally:\n",
    "    a = 0\n",
    "    for i in range(len(users_info)):#get the name\n",
    "        string = users_info[i]\n",
    "        pattern = re.compile(r'^\\D+')\n",
    "        users_info_name = pattern.findall(string)\n",
    "        if (user_name + ' ') == users_info_name[0]:#test whether there was already been this user by name\n",
    "            a += 1\n",
    "            users_info[i] = '%s %d %d %d\\n' % (user_name,tol,min(tims_each_round),tims/tol)\n",
    "            with open('game_many_users.txt','w') as f:\n",
    "                new_users_info = ''.join(users_info)\n",
    "                f.write(new_users_info)\n",
    "    if a != 1:#if no record for this user, create one\n",
    "        with open('game_many_users.txt','a') as f:\n",
    "            f.write('%s %d %d %d\\n' % (user_name,tol,min(tims_each_round),tims/tol))\n",
    "        "
   ]
  }
 ],
 "metadata": {
  "kernelspec": {
   "display_name": "Python 3",
   "language": "python",
   "name": "python3"
  },
  "language_info": {
   "codemirror_mode": {
    "name": "ipython",
    "version": 3
   },
   "file_extension": ".py",
   "mimetype": "text/x-python",
   "name": "python",
   "nbconvert_exporter": "python",
   "pygments_lexer": "ipython3",
   "version": "3.8.3"
  }
 },
 "nbformat": 4,
 "nbformat_minor": 4
}
